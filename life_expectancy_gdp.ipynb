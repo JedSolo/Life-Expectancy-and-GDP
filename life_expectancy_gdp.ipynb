{
 "cells": [
  {
   "cell_type": "markdown",
   "metadata": {},
   "source": [
    "# LIFE EXPECTANCY AND GDP"
   ]
  },
  {
   "cell_type": "code",
   "execution_count": 1,
   "metadata": {},
   "outputs": [
    {
     "name": "stdout",
     "output_type": "stream",
     "text": [
      "  Country  Year  Life expectancy at birth (years)           GDP\n",
      "0   Chile  2000                              77.3  7.786093e+10\n",
      "1   Chile  2001                              77.3  7.097992e+10\n",
      "2   Chile  2002                              77.8  6.973681e+10\n",
      "3   Chile  2003                              77.9  7.564346e+10\n",
      "4   Chile  2004                              78.0  9.921039e+10\n",
      "5   Chile  2005                              78.4  1.229650e+11\n",
      "6   Chile  2006                              78.9  1.547880e+11\n",
      "7   Chile  2007                              78.9  1.736060e+11\n",
      "8   Chile  2008                              79.6  1.796380e+11\n",
      "9   Chile  2009                              79.3  1.723890e+11\n",
      "(96, 4)\n",
      "<class 'pandas.core.frame.DataFrame'>\n",
      "RangeIndex: 96 entries, 0 to 95\n",
      "Data columns (total 4 columns):\n",
      " #   Column                            Non-Null Count  Dtype  \n",
      "---  ------                            --------------  -----  \n",
      " 0   Country                           96 non-null     object \n",
      " 1   Year                              96 non-null     int64  \n",
      " 2   Life expectancy at birth (years)  96 non-null     float64\n",
      " 3   GDP                               96 non-null     float64\n",
      "dtypes: float64(2), int64(1), object(1)\n",
      "memory usage: 3.1+ KB\n",
      "None\n",
      "              Year  Life expectancy at birth (years)           GDP\n",
      "count    96.000000                         96.000000  9.600000e+01\n",
      "mean   2007.500000                         72.789583  3.880499e+12\n",
      "std       4.633971                         10.672882  5.197561e+12\n",
      "min    2000.000000                         44.300000  4.415703e+09\n",
      "25%    2003.750000                         74.475000  1.733018e+11\n",
      "50%    2007.500000                         76.750000  1.280220e+12\n",
      "75%    2011.250000                         78.900000  4.067510e+12\n",
      "max    2015.000000                         81.000000  1.810000e+13\n"
     ]
    }
   ],
   "source": [
    "import pandas as pd\n",
    "\n",
    "data = pd.read_csv('all_data.csv')\n",
    "print(data.head(10))\n",
    "\n",
    "print(data.shape)\n",
    "\n",
    "print(data.info())\n",
    "\n",
    "print(data.describe())"
   ]
  },
  {
   "cell_type": "code",
   "execution_count": null,
   "metadata": {},
   "outputs": [],
   "source": []
  }
 ],
 "metadata": {
  "kernelspec": {
   "display_name": "Python 3",
   "language": "python",
   "name": "python3"
  },
  "language_info": {
   "codemirror_mode": {
    "name": "ipython",
    "version": 3
   },
   "file_extension": ".py",
   "mimetype": "text/x-python",
   "name": "python",
   "nbconvert_exporter": "python",
   "pygments_lexer": "ipython3",
   "version": "3.9.1"
  }
 },
 "nbformat": 4,
 "nbformat_minor": 4
}
